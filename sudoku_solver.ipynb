{
 "cells": [
  {
   "cell_type": "code",
   "execution_count": 3,
   "metadata": {},
   "outputs": [],
   "source": [
    "import numpy as np"
   ]
  },
  {
   "cell_type": "code",
   "execution_count": 24,
   "metadata": {},
   "outputs": [],
   "source": [
    "puzzle = [[0, 0, 0, 0, 9, 1, 4, 0, 0],\n",
    "          [0, 0, 0, 0, 0, 0, 0, 6, 0], \n",
    "          [5, 0, 0, 0, 0, 4, 9, 0, 0], \n",
    "          [7, 0, 4, 0, 0, 8, 0, 5, 0], \n",
    "          [0, 0, 0, 0, 2, 0, 0, 0, 1], \n",
    "          [0, 2, 0, 0, 0, 0, 0, 0, 4], \n",
    "          [0, 0, 6, 3, 0, 0, 5, 0, 7], \n",
    "          [0, 0, 0, 0, 7, 6, 0, 0, 0], \n",
    "          [0, 0, 7, 0, 1, 0, 0, 0, 0]]"
   ]
  },
  {
   "cell_type": "code",
   "execution_count": 25,
   "metadata": {},
   "outputs": [
    {
     "name": "stdout",
     "output_type": "stream",
     "text": [
      "[[0 0 0 0 9 1 4 0 0]\n",
      " [0 0 0 0 0 0 0 6 0]\n",
      " [5 0 0 0 0 4 9 0 0]\n",
      " [7 0 4 0 0 8 0 5 0]\n",
      " [0 0 0 0 2 0 0 0 1]\n",
      " [0 2 0 0 0 0 0 0 4]\n",
      " [0 0 6 3 0 0 5 0 7]\n",
      " [0 0 0 0 7 6 0 0 0]\n",
      " [0 0 7 0 1 0 0 0 0]]\n"
     ]
    }
   ],
   "source": [
    "puzzle = np.array(puzzle)\n",
    "print(puzzle)"
   ]
  },
  {
   "cell_type": "code",
   "execution_count": 26,
   "metadata": {},
   "outputs": [],
   "source": [
    "def possible(x, y, n):\n",
    "    global puzzle\n",
    "    # test if n possible in x\n",
    "    for i in range(9):\n",
    "        if puzzle[x,i] == n:\n",
    "            return False\n",
    "    for i in range(9):\n",
    "        if puzzle[i,y] == n:\n",
    "            return False\n",
    "    sx = int(np.floor(x/3)*3)\n",
    "    sy = int(np.floor(y/3)*3)\n",
    "    for i in range(sx, sx+3):\n",
    "        for j in range(sy, sy+3):\n",
    "            if puzzle[i, j] == n:\n",
    "                return False\n",
    "    return True\n",
    "    \n",
    "    # test if n possible in y\n",
    "    # test if n possible in square"
   ]
  },
  {
   "cell_type": "code",
   "execution_count": 27,
   "metadata": {},
   "outputs": [],
   "source": [
    "def solve():\n",
    "    global puzzle\n",
    "    for i in range(9):\n",
    "        for j in range(9):\n",
    "            if puzzle[i, j] == 0:\n",
    "                for k in range(1,10):\n",
    "                    if possible(i, j, k):\n",
    "                        puzzle[i, j] = k\n",
    "                        solve()\n",
    "                        # back track incase bad selection\n",
    "                        puzzle[i][j] = 0\n",
    "                return\n",
    "    print(puzzle)\n",
    "    input('Show another solution?')"
   ]
  },
  {
   "cell_type": "code",
   "execution_count": null,
   "metadata": {},
   "outputs": [
    {
     "name": "stdout",
     "output_type": "stream",
     "text": [
      "[[2 3 8 6 9 1 4 7 5]\n",
      " [4 7 9 2 3 5 1 6 8]\n",
      " [5 6 1 7 8 4 9 2 3]\n",
      " [7 1 4 9 6 8 3 5 2]\n",
      " [6 8 5 4 2 3 7 9 1]\n",
      " [9 2 3 1 5 7 6 8 4]\n",
      " [8 9 6 3 4 2 5 1 7]\n",
      " [1 4 2 5 7 6 8 3 9]\n",
      " [3 5 7 8 1 9 2 4 6]]\n"
     ]
    },
    {
     "name": "stdin",
     "output_type": "stream",
     "text": [
      "Show another solution? \n"
     ]
    },
    {
     "name": "stdout",
     "output_type": "stream",
     "text": [
      "[[2 3 8 6 9 1 4 7 5]\n",
      " [4 7 9 2 3 5 1 6 8]\n",
      " [5 6 1 7 8 4 9 2 3]\n",
      " [7 1 4 9 6 8 3 5 2]\n",
      " [6 9 5 4 2 3 7 8 1]\n",
      " [8 2 3 1 5 7 6 9 4]\n",
      " [9 8 6 3 4 2 5 1 7]\n",
      " [1 4 2 5 7 6 8 3 9]\n",
      " [3 5 7 8 1 9 2 4 6]]\n"
     ]
    },
    {
     "name": "stdin",
     "output_type": "stream",
     "text": [
      "Show another solution? \n"
     ]
    },
    {
     "name": "stdout",
     "output_type": "stream",
     "text": [
      "[[2 3 8 6 9 1 4 7 5]\n",
      " [4 7 9 2 3 5 1 6 8]\n",
      " [5 6 1 7 8 4 9 3 2]\n",
      " [7 1 4 9 6 8 2 5 3]\n",
      " [6 8 5 4 2 3 7 9 1]\n",
      " [9 2 3 1 5 7 6 8 4]\n",
      " [8 9 6 3 4 2 5 1 7]\n",
      " [1 5 2 8 7 6 3 4 9]\n",
      " [3 4 7 5 1 9 8 2 6]]\n"
     ]
    }
   ],
   "source": [
    "solve()"
   ]
  },
  {
   "cell_type": "code",
   "execution_count": null,
   "metadata": {},
   "outputs": [],
   "source": []
  }
 ],
 "metadata": {
  "kernelspec": {
   "display_name": "Python 3",
   "language": "python",
   "name": "python3"
  },
  "language_info": {
   "codemirror_mode": {
    "name": "ipython",
    "version": 3
   },
   "file_extension": ".py",
   "mimetype": "text/x-python",
   "name": "python",
   "nbconvert_exporter": "python",
   "pygments_lexer": "ipython3",
   "version": "3.8.5"
  }
 },
 "nbformat": 4,
 "nbformat_minor": 4
}
